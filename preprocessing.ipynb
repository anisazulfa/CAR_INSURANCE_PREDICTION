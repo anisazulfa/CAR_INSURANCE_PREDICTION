{
 "cells": [
  {
   "cell_type": "code",
   "execution_count": 1,
   "metadata": {},
   "outputs": [],
   "source": [
    "import pandas as pd\n",
    "import src.util as utils\n",
    "from imblearn.over_sampling import SMOTEN\n",
    "from sklearn.preprocessing import StandardScaler"
   ]
  },
  {
   "attachments": {},
   "cell_type": "markdown",
   "metadata": {},
   "source": [
    "## Load Configuration File"
   ]
  },
  {
   "cell_type": "code",
   "execution_count": 2,
   "metadata": {},
   "outputs": [],
   "source": [
    "config = utils.load_config()"
   ]
  },
  {
   "attachments": {},
   "cell_type": "markdown",
   "metadata": {},
   "source": [
    "## Load Dataset"
   ]
  },
  {
   "cell_type": "code",
   "execution_count": 3,
   "metadata": {},
   "outputs": [],
   "source": [
    "def load_dataset(config_data: dict):\n",
    "    x_train = utils.pickle_load(config_data[\"train_set_path\"][0])\n",
    "    y_train = utils.pickle_load(config_data[\"train_set_path\"][1])\n",
    "    x_valid = utils.pickle_load(config_data[\"valid_set_path\"][0])\n",
    "    y_valid = utils.pickle_load(config_data[\"valid_set_path\"][1])\n",
    "    x_test = utils.pickle_load(config_data[\"test_set_path\"][0])\n",
    "    y_test = utils.pickle_load(config_data[\"test_set_path\"][1])\n",
    "\n",
    "    return x_train, x_valid, x_test, y_train, y_valid, y_test"
   ]
  },
  {
   "cell_type": "code",
   "execution_count": 4,
   "metadata": {},
   "outputs": [],
   "source": [
    "x_train, x_valid, x_test, y_train, y_valid, y_test = load_dataset(config)"
   ]
  },
  {
   "attachments": {},
   "cell_type": "markdown",
   "metadata": {},
   "source": [
    "## Imputation"
   ]
  },
  {
   "cell_type": "code",
   "execution_count": 7,
   "metadata": {},
   "outputs": [],
   "source": [
    "def fill_missing_values(df):\n",
    "    data = df.copy()\n",
    "    for col in data.columns:\n",
    "        if data[col].isna().sum() > 1:\n",
    "            mean_value = data[col].mean()\n",
    "            data[col].fillna(value=mean_value, inplace=True)\n",
    "    return data"
   ]
  },
  {
   "cell_type": "code",
   "execution_count": 8,
   "metadata": {},
   "outputs": [],
   "source": [
    "X_train_imp = fill_missing_values(x_train)\n",
    "X_valid_imp = fill_missing_values(x_valid)\n",
    "X_test_imp = fill_missing_values(x_test)"
   ]
  },
  {
   "attachments": {},
   "cell_type": "markdown",
   "metadata": {},
   "source": [
    "## Column Encoding"
   ]
  },
  {
   "cell_type": "code",
   "execution_count": 9,
   "metadata": {},
   "outputs": [],
   "source": [
    "def column_encoder(df):\n",
    "    data = pd.get_dummies(df)\n",
    "\n",
    "    return data"
   ]
  },
  {
   "cell_type": "code",
   "execution_count": 10,
   "metadata": {},
   "outputs": [],
   "source": [
    "X_train_imp_encode = column_encoder(X_train_imp)\n",
    "X_valid_imp_encode = column_encoder(X_valid_imp)\n",
    "X_test_imp_encode = column_encoder(X_test_imp)"
   ]
  },
  {
   "attachments": {},
   "cell_type": "markdown",
   "metadata": {},
   "source": [
    "## Scaling Data"
   ]
  },
  {
   "cell_type": "code",
   "execution_count": 11,
   "metadata": {},
   "outputs": [],
   "source": [
    "def scaler_model(df, config):\n",
    "    scaler = StandardScaler()\n",
    "    scaler.fit(df)\n",
    "    utils.pickle_dump(scaler, config[\"standard_scaler\"]) \n",
    "\n",
    "def scale_data(df, config):\n",
    "    scaler = utils.pickle_load(config[\"standard_scaler\"])\n",
    "    set_x_scaled = scaler.transform(df)\n",
    "\n",
    "    return set_x_scaled"
   ]
  },
  {
   "cell_type": "code",
   "execution_count": 15,
   "metadata": {},
   "outputs": [],
   "source": [
    "scaler_model(X_test_imp_encode)\n",
    "X_train_imp_encode_scaled = scale_data(X_train_imp_encode, config)\n",
    "X_valid_imp_encode_scaled = scale_data(X_valid_imp_encode, config)\n",
    "X_test_imp_encode_scaled = scale_data(X_test_imp_encode, config)"
   ]
  },
  {
   "attachments": {},
   "cell_type": "markdown",
   "metadata": {},
   "source": [
    "## Oversampling"
   ]
  },
  {
   "cell_type": "code",
   "execution_count": 16,
   "metadata": {},
   "outputs": [
    {
     "name": "stdout",
     "output_type": "stream",
     "text": [
      "train: (7000, 23)\n",
      "valid: (1500, 23)\n",
      "test: (1500, 23)\n"
     ]
    }
   ],
   "source": [
    "print(\"train:\", X_train_imp_encode_scaled.shape)\n",
    "print(\"valid:\", X_valid_imp_encode_scaled.shape)\n",
    "print(\"test:\", X_test_imp_encode_scaled.shape)"
   ]
  },
  {
   "cell_type": "code",
   "execution_count": 13,
   "metadata": {},
   "outputs": [],
   "source": [
    "def resample_data(set_x, set_y):\n",
    "    sm = SMOTEN(k_neighbors=20, n_jobs=-1)\n",
    "    X_train_res, y_train_res = sm.fit_resample(set_x, set_y)\n",
    "\n",
    "    return X_train_res, y_train_res"
   ]
  },
  {
   "cell_type": "code",
   "execution_count": 14,
   "metadata": {},
   "outputs": [
    {
     "name": "stderr",
     "output_type": "stream",
     "text": [
      "d:\\Belajar\\Pacmann\\Final project\\CAR_INSURANCE_PREDICTION\\.env\\lib\\site-packages\\imblearn\\over_sampling\\_smote\\base.py:858: FutureWarning: The parameter `n_jobs` has been deprecated in 0.10 and will be removed in 0.12. You can pass an nearest neighbors estimator where `n_jobs` is already set instead.\n",
      "  warnings.warn(\n"
     ]
    },
    {
     "name": "stdout",
     "output_type": "stream",
     "text": [
      "train: (9614, 23)\n",
      "valid: (1500, 23)\n",
      "test: (1500, 23)\n"
     ]
    }
   ],
   "source": [
    "X_train_imp_encode_scaled_bal, y_train_bal = resample_data(\n",
    "    X_train_imp_encode_scaled, \n",
    "    y_train\n",
    ")\n",
    "print(\"train:\", X_train_imp_encode_scaled_bal.shape)\n",
    "print(\"valid:\", X_valid_imp_encode_scaled.shape)\n",
    "print(\"test:\", X_test_imp_encode_scaled.shape)"
   ]
  },
  {
   "cell_type": "code",
   "execution_count": 17,
   "metadata": {},
   "outputs": [
    {
     "data": {
      "text/plain": [
       "array([[ 0.89639623, -1.48727652, -0.42677835, ..., -0.67028006,\n",
       "         1.89397887, -0.34675493],\n",
       "       [ 0.89639623,  0.67236993,  3.25234539, ...,  1.49191369,\n",
       "        -0.52798899, -0.34675493],\n",
       "       [ 0.13374445,  0.67236993,  1.41278352, ...,  1.49191369,\n",
       "        -0.52798899, -0.34675493],\n",
       "       ...,\n",
       "       [ 0.89639623, -1.48727652, -0.42677835, ..., -0.67028006,\n",
       "        -0.52798899, -0.34675493],\n",
       "       [ 0.02741608,  0.67236993, -0.42677835, ..., -0.67028006,\n",
       "        -0.52798899, -0.34675493],\n",
       "       [ 0.89639623, -1.48727652, -0.42677835, ..., -0.67028006,\n",
       "        -0.52798899, -0.34675493]])"
      ]
     },
     "execution_count": 17,
     "metadata": {},
     "output_type": "execute_result"
    }
   ],
   "source": [
    "X_train_imp_encode_scaled_bal"
   ]
  },
  {
   "cell_type": "code",
   "execution_count": null,
   "metadata": {},
   "outputs": [],
   "source": []
  }
 ],
 "metadata": {
  "kernelspec": {
   "display_name": ".env",
   "language": "python",
   "name": "python3"
  },
  "language_info": {
   "codemirror_mode": {
    "name": "ipython",
    "version": 3
   },
   "file_extension": ".py",
   "mimetype": "text/x-python",
   "name": "python",
   "nbconvert_exporter": "python",
   "pygments_lexer": "ipython3",
   "version": "3.8.10"
  },
  "orig_nbformat": 4,
  "vscode": {
   "interpreter": {
    "hash": "9f2ff55ee6233bcdb3f920325256aa60d50730bac1077ec6d8f79657df8e7826"
   }
  }
 },
 "nbformat": 4,
 "nbformat_minor": 2
}
