{
 "cells": [
  {
   "cell_type": "code",
   "execution_count": 72,
   "metadata": {},
   "outputs": [],
   "source": [
    "import src.util as utils\n",
    "from xgboost import XGBClassifier\n",
    "from sklearn.metrics import classification_report\n",
    "from sklearn.metrics import classification_report, roc_auc_score, confusion_matrix\n",
    "from hyperopt import STATUS_OK, Trials, fmin, hp, tpe\n",
    "from matplotlib import pyplot"
   ]
  },
  {
   "attachments": {},
   "cell_type": "markdown",
   "metadata": {},
   "source": [
    "## Load Configuration File"
   ]
  },
  {
   "cell_type": "code",
   "execution_count": 4,
   "metadata": {},
   "outputs": [],
   "source": [
    "config = utils.load_config()"
   ]
  },
  {
   "attachments": {},
   "cell_type": "markdown",
   "metadata": {},
   "source": [
    "## Load Train and Valid Set "
   ]
  },
  {
   "cell_type": "code",
   "execution_count": 5,
   "metadata": {},
   "outputs": [],
   "source": [
    "def load_train_feng(params: dict):\n",
    "    # Load train set\n",
    "    x_train = utils.pickle_load(params[\"train_feng_set_path\"][0])\n",
    "    y_train = utils.pickle_load(params[\"train_feng_set_path\"][1])\n",
    "\n",
    "    return x_train, y_train\n",
    "\n",
    "def load_valid(params: dict):\n",
    "    # Load valid set\n",
    "    x_valid = utils.pickle_load(params[\"valid_feng_set_path\"][0])\n",
    "    y_valid = utils.pickle_load(params[\"valid_feng_set_path\"][1])\n",
    "\n",
    "    return x_valid, y_valid\n",
    "\n",
    "def load_test(params: dict):\n",
    "    # Load tets set\n",
    "    x_test = utils.pickle_load(params[\"test_feng_set_path\"][0])\n",
    "    y_test = utils.pickle_load(params[\"test_feng_set_path\"][1])\n",
    "\n",
    "    return x_test, y_test"
   ]
  },
  {
   "cell_type": "code",
   "execution_count": 6,
   "metadata": {},
   "outputs": [],
   "source": [
    "x_train, y_train = load_train_feng(config)\n",
    "x_valid, y_valid = load_valid(config)\n",
    "x_test, y_test = load_test(config)"
   ]
  },
  {
   "attachments": {},
   "cell_type": "markdown",
   "metadata": {},
   "source": [
    "## Hyperparameter Tuning"
   ]
  },
  {
   "cell_type": "code",
   "execution_count": 12,
   "metadata": {},
   "outputs": [],
   "source": [
    "space={'max_depth': hp.quniform(\"max_depth\", 3, 18, 1),\n",
    "        'gamma': hp.uniform ('gamma', 1,9),\n",
    "        'reg_alpha' : hp.quniform('reg_alpha', 40,180,1),\n",
    "        'reg_lambda' : hp.uniform('reg_lambda', 0,1),\n",
    "        'colsample_bytree' : hp.uniform('colsample_bytree', 0.5,1),\n",
    "        'min_child_weight' : hp.quniform('min_child_weight', 0, 10, 1),\n",
    "        'n_estimators': 180,\n",
    "        'seed': 0\n",
    "    }"
   ]
  },
  {
   "cell_type": "code",
   "execution_count": 54,
   "metadata": {},
   "outputs": [],
   "source": [
    "def objective(space):\n",
    "    \n",
    "    model = XGBClassifier(\n",
    "        n_estimators =space['n_estimators'], max_depth = int(space['max_depth']), gamma = space['gamma'],\n",
    "        reg_alpha = int(space['reg_alpha']),min_child_weight=int(space['min_child_weight']),\n",
    "        colsample_bytree=int(space['colsample_bytree'])\n",
    "    )\n",
    "\n",
    "    evaluation = [( x_train, y_train), (x_valid, y_valid)]\n",
    "    \n",
    "    model.fit(x_train, y_train,\n",
    "            eval_set=evaluation,\n",
    "            early_stopping_rounds=10,verbose=False)\n",
    "\n",
    "    y_pred = model.predict(x_test)\n",
    "    score = roc_auc_score(y_test, y_pred)\n",
    "    print(\"SCore:\", score)\n",
    "    loss = 1 - score\n",
    "    return {'loss': loss, 'status': STATUS_OK, 'model': model}"
   ]
  },
  {
   "cell_type": "code",
   "execution_count": 55,
   "metadata": {},
   "outputs": [
    {
     "name": "stdout",
     "output_type": "stream",
     "text": [
      "SCore:                                                 \n",
      "0.7802829993802933                                     \n",
      "  1%|          | 1/100 [00:00<00:11,  8.71trial/s, best loss: 0.21971700061970667]"
     ]
    },
    {
     "name": "stderr",
     "output_type": "stream",
     "text": [
      "d:\\Belajar\\Pacmann\\Final project\\CAR_INSURANCE_PREDICTION\\.env\\lib\\site-packages\\xgboost\\sklearn.py:861: UserWarning: `early_stopping_rounds` in `fit` method is deprecated for better compatibility with scikit-learn, use `early_stopping_rounds` in constructor or`set_params` instead.\n",
      "  warnings.warn(\n",
      "\n",
      "d:\\Belajar\\Pacmann\\Final project\\CAR_INSURANCE_PREDICTION\\.env\\lib\\site-packages\\xgboost\\sklearn.py:861: UserWarning: `early_stopping_rounds` in `fit` method is deprecated for better compatibility with scikit-learn, use `early_stopping_rounds` in constructor or`set_params` instead.\n",
      "  warnings.warn(\n",
      "\n"
     ]
    },
    {
     "name": "stdout",
     "output_type": "stream",
     "text": [
      "SCore:                                                                            \n",
      "0.7906424292501548                                                                \n",
      "SCore:                                                                            \n",
      "0.7864800661020451                                                                \n",
      "  3%|▎         | 3/100 [00:00<00:12,  7.66trial/s, best loss: 0.20935757074984518]"
     ]
    },
    {
     "name": "stderr",
     "output_type": "stream",
     "text": [
      "d:\\Belajar\\Pacmann\\Final project\\CAR_INSURANCE_PREDICTION\\.env\\lib\\site-packages\\xgboost\\sklearn.py:861: UserWarning: `early_stopping_rounds` in `fit` method is deprecated for better compatibility with scikit-learn, use `early_stopping_rounds` in constructor or`set_params` instead.\n",
      "  warnings.warn(\n",
      "\n",
      "d:\\Belajar\\Pacmann\\Final project\\CAR_INSURANCE_PREDICTION\\.env\\lib\\site-packages\\xgboost\\sklearn.py:861: UserWarning: `early_stopping_rounds` in `fit` method is deprecated for better compatibility with scikit-learn, use `early_stopping_rounds` in constructor or`set_params` instead.\n",
      "  warnings.warn(\n",
      "\n"
     ]
    },
    {
     "name": "stdout",
     "output_type": "stream",
     "text": [
      "SCore:                                                                            \n",
      "0.7879363767816567                                                                \n",
      "SCore:                                                                            \n",
      "0.7817393100599049                                                                \n",
      "  5%|▌         | 5/100 [00:00<00:11,  8.06trial/s, best loss: 0.20935757074984518]"
     ]
    },
    {
     "name": "stderr",
     "output_type": "stream",
     "text": [
      "d:\\Belajar\\Pacmann\\Final project\\CAR_INSURANCE_PREDICTION\\.env\\lib\\site-packages\\xgboost\\sklearn.py:861: UserWarning: `early_stopping_rounds` in `fit` method is deprecated for better compatibility with scikit-learn, use `early_stopping_rounds` in constructor or`set_params` instead.\n",
      "  warnings.warn(\n",
      "\n",
      "d:\\Belajar\\Pacmann\\Final project\\CAR_INSURANCE_PREDICTION\\.env\\lib\\site-packages\\xgboost\\sklearn.py:861: UserWarning: `early_stopping_rounds` in `fit` method is deprecated for better compatibility with scikit-learn, use `early_stopping_rounds` in constructor or`set_params` instead.\n",
      "  warnings.warn(\n",
      "\n"
     ]
    },
    {
     "name": "stdout",
     "output_type": "stream",
     "text": [
      "SCore:                                                                            \n",
      "0.7885147696756869                                                                \n",
      "SCore:                                                                            \n",
      "0.7832885767403428                                                                \n",
      "SCore:                                                                            \n",
      "  7%|▋         | 7/100 [00:00<00:10,  9.13trial/s, best loss: 0.20935757074984518]"
     ]
    },
    {
     "name": "stderr",
     "output_type": "stream",
     "text": [
      "d:\\Belajar\\Pacmann\\Final project\\CAR_INSURANCE_PREDICTION\\.env\\lib\\site-packages\\xgboost\\sklearn.py:861: UserWarning: `early_stopping_rounds` in `fit` method is deprecated for better compatibility with scikit-learn, use `early_stopping_rounds` in constructor or`set_params` instead.\n",
      "  warnings.warn(\n",
      "\n",
      "d:\\Belajar\\Pacmann\\Final project\\CAR_INSURANCE_PREDICTION\\.env\\lib\\site-packages\\xgboost\\sklearn.py:861: UserWarning: `early_stopping_rounds` in `fit` method is deprecated for better compatibility with scikit-learn, use `early_stopping_rounds` in constructor or`set_params` instead.\n",
      "  warnings.warn(\n",
      "\n"
     ]
    },
    {
     "name": "stdout",
     "output_type": "stream",
     "text": [
      "0.7875438958892792                                                                \n",
      "SCore:                                                                            \n",
      "0.7901569923569511                                                                \n",
      "  8%|▊         | 8/100 [00:00<00:09,  9.33trial/s, best loss: 0.20935757074984518]"
     ]
    },
    {
     "name": "stderr",
     "output_type": "stream",
     "text": [
      "d:\\Belajar\\Pacmann\\Final project\\CAR_INSURANCE_PREDICTION\\.env\\lib\\site-packages\\xgboost\\sklearn.py:861: UserWarning: `early_stopping_rounds` in `fit` method is deprecated for better compatibility with scikit-learn, use `early_stopping_rounds` in constructor or`set_params` instead.\n",
      "  warnings.warn(\n",
      "\n",
      "d:\\Belajar\\Pacmann\\Final project\\CAR_INSURANCE_PREDICTION\\.env\\lib\\site-packages\\xgboost\\sklearn.py:861: UserWarning: `early_stopping_rounds` in `fit` method is deprecated for better compatibility with scikit-learn, use `early_stopping_rounds` in constructor or`set_params` instead.\n",
      "  warnings.warn(\n",
      "\n"
     ]
    },
    {
     "name": "stdout",
     "output_type": "stream",
     "text": [
      "SCore:                                                                            \n",
      "0.7891861185705433                                                                \n",
      "SCore:                                                                             \n",
      "0.782803139847139                                                                  \n",
      " 11%|█         | 11/100 [00:01<00:09,  9.79trial/s, best loss: 0.20935757074984518]"
     ]
    },
    {
     "name": "stderr",
     "output_type": "stream",
     "text": [
      "d:\\Belajar\\Pacmann\\Final project\\CAR_INSURANCE_PREDICTION\\.env\\lib\\site-packages\\xgboost\\sklearn.py:861: UserWarning: `early_stopping_rounds` in `fit` method is deprecated for better compatibility with scikit-learn, use `early_stopping_rounds` in constructor or`set_params` instead.\n",
      "  warnings.warn(\n",
      "\n",
      "d:\\Belajar\\Pacmann\\Final project\\CAR_INSURANCE_PREDICTION\\.env\\lib\\site-packages\\xgboost\\sklearn.py:861: UserWarning: `early_stopping_rounds` in `fit` method is deprecated for better compatibility with scikit-learn, use `early_stopping_rounds` in constructor or`set_params` instead.\n",
      "  warnings.warn(\n",
      "\n"
     ]
    },
    {
     "name": "stdout",
     "output_type": "stream",
     "text": [
      "SCore:                                                                             \n",
      "0.7849307994216072                                                                 \n",
      "SCore:                                                                             \n",
      "0.7957550092956                                                                    \n",
      " 13%|█▎        | 13/100 [00:01<00:09,  9.08trial/s, best loss: 0.20424499070440005]"
     ]
    },
    {
     "name": "stderr",
     "output_type": "stream",
     "text": [
      "d:\\Belajar\\Pacmann\\Final project\\CAR_INSURANCE_PREDICTION\\.env\\lib\\site-packages\\xgboost\\sklearn.py:861: UserWarning: `early_stopping_rounds` in `fit` method is deprecated for better compatibility with scikit-learn, use `early_stopping_rounds` in constructor or`set_params` instead.\n",
      "  warnings.warn(\n",
      "\n",
      "d:\\Belajar\\Pacmann\\Final project\\CAR_INSURANCE_PREDICTION\\.env\\lib\\site-packages\\xgboost\\sklearn.py:861: UserWarning: `early_stopping_rounds` in `fit` method is deprecated for better compatibility with scikit-learn, use `early_stopping_rounds` in constructor or`set_params` instead.\n",
      "  warnings.warn(\n",
      "\n"
     ]
    },
    {
     "name": "stdout",
     "output_type": "stream",
     "text": [
      "SCore:                                                                             \n",
      "0.7905494732493287                                                                 \n",
      "SCore:                                                                             \n",
      "0.7764201611237349                                                                 \n",
      " 15%|█▌        | 15/100 [00:01<00:09,  9.40trial/s, best loss: 0.20424499070440005]"
     ]
    },
    {
     "name": "stderr",
     "output_type": "stream",
     "text": [
      "d:\\Belajar\\Pacmann\\Final project\\CAR_INSURANCE_PREDICTION\\.env\\lib\\site-packages\\xgboost\\sklearn.py:861: UserWarning: `early_stopping_rounds` in `fit` method is deprecated for better compatibility with scikit-learn, use `early_stopping_rounds` in constructor or`set_params` instead.\n",
      "  warnings.warn(\n",
      "\n",
      "d:\\Belajar\\Pacmann\\Final project\\CAR_INSURANCE_PREDICTION\\.env\\lib\\site-packages\\xgboost\\sklearn.py:861: UserWarning: `early_stopping_rounds` in `fit` method is deprecated for better compatibility with scikit-learn, use `early_stopping_rounds` in constructor or`set_params` instead.\n",
      "  warnings.warn(\n",
      "\n"
     ]
    },
    {
     "name": "stdout",
     "output_type": "stream",
     "text": [
      "SCore:                                                                             \n",
      "0.7864800661020451                                                                 \n",
      "SCore:                                                                             \n",
      "0.7803036562693658                                                                 \n",
      " 17%|█▋        | 17/100 [00:01<00:09,  8.72trial/s, best loss: 0.20424499070440005]"
     ]
    },
    {
     "name": "stderr",
     "output_type": "stream",
     "text": [
      "d:\\Belajar\\Pacmann\\Final project\\CAR_INSURANCE_PREDICTION\\.env\\lib\\site-packages\\xgboost\\sklearn.py:861: UserWarning: `early_stopping_rounds` in `fit` method is deprecated for better compatibility with scikit-learn, use `early_stopping_rounds` in constructor or`set_params` instead.\n",
      "  warnings.warn(\n",
      "\n",
      "d:\\Belajar\\Pacmann\\Final project\\CAR_INSURANCE_PREDICTION\\.env\\lib\\site-packages\\xgboost\\sklearn.py:861: UserWarning: `early_stopping_rounds` in `fit` method is deprecated for better compatibility with scikit-learn, use `early_stopping_rounds` in constructor or`set_params` instead.\n",
      "  warnings.warn(\n",
      "\n"
     ]
    },
    {
     "name": "stdout",
     "output_type": "stream",
     "text": [
      "SCore:                                                                             \n",
      "0.7891861185705433                                                                 \n",
      "SCore:                                                                             \n",
      "0.7785478206982029                                                                 \n",
      " 19%|█▉        | 19/100 [00:02<00:09,  8.63trial/s, best loss: 0.20424499070440005]"
     ]
    },
    {
     "name": "stderr",
     "output_type": "stream",
     "text": [
      "d:\\Belajar\\Pacmann\\Final project\\CAR_INSURANCE_PREDICTION\\.env\\lib\\site-packages\\xgboost\\sklearn.py:861: UserWarning: `early_stopping_rounds` in `fit` method is deprecated for better compatibility with scikit-learn, use `early_stopping_rounds` in constructor or`set_params` instead.\n",
      "  warnings.warn(\n",
      "\n",
      "d:\\Belajar\\Pacmann\\Final project\\CAR_INSURANCE_PREDICTION\\.env\\lib\\site-packages\\xgboost\\sklearn.py:861: UserWarning: `early_stopping_rounds` in `fit` method is deprecated for better compatibility with scikit-learn, use `early_stopping_rounds` in constructor or`set_params` instead.\n",
      "  warnings.warn(\n",
      "\n"
     ]
    },
    {
     "name": "stdout",
     "output_type": "stream",
     "text": [
      "SCore:                                                                             \n",
      "0.788401156785788                                                                  \n",
      "SCore:                                                                             \n",
      "0.7886077256765132                                                                 \n",
      " 21%|██        | 21/100 [00:02<00:09,  8.64trial/s, best loss: 0.20424499070440005]"
     ]
    },
    {
     "name": "stderr",
     "output_type": "stream",
     "text": [
      "d:\\Belajar\\Pacmann\\Final project\\CAR_INSURANCE_PREDICTION\\.env\\lib\\site-packages\\xgboost\\sklearn.py:861: UserWarning: `early_stopping_rounds` in `fit` method is deprecated for better compatibility with scikit-learn, use `early_stopping_rounds` in constructor or`set_params` instead.\n",
      "  warnings.warn(\n",
      "\n",
      "d:\\Belajar\\Pacmann\\Final project\\CAR_INSURANCE_PREDICTION\\.env\\lib\\site-packages\\xgboost\\sklearn.py:861: UserWarning: `early_stopping_rounds` in `fit` method is deprecated for better compatibility with scikit-learn, use `early_stopping_rounds` in constructor or`set_params` instead.\n",
      "  warnings.warn(\n",
      "\n"
     ]
    },
    {
     "name": "stdout",
     "output_type": "stream",
     "text": [
      "SCore:                                                                             \n",
      "0.7902499483577774                                                                 \n",
      "SCore:                                                                             \n",
      "0.7952695724023963                                                                 \n",
      " 23%|██▎       | 23/100 [00:02<00:08,  8.64trial/s, best loss: 0.20424499070440005]"
     ]
    },
    {
     "name": "stderr",
     "output_type": "stream",
     "text": [
      "d:\\Belajar\\Pacmann\\Final project\\CAR_INSURANCE_PREDICTION\\.env\\lib\\site-packages\\xgboost\\sklearn.py:861: UserWarning: `early_stopping_rounds` in `fit` method is deprecated for better compatibility with scikit-learn, use `early_stopping_rounds` in constructor or`set_params` instead.\n",
      "  warnings.warn(\n",
      "\n",
      "d:\\Belajar\\Pacmann\\Final project\\CAR_INSURANCE_PREDICTION\\.env\\lib\\site-packages\\xgboost\\sklearn.py:861: UserWarning: `early_stopping_rounds` in `fit` method is deprecated for better compatibility with scikit-learn, use `early_stopping_rounds` in constructor or`set_params` instead.\n",
      "  warnings.warn(\n",
      "\n"
     ]
    },
    {
     "name": "stdout",
     "output_type": "stream",
     "text": [
      "SCore:                                                                             \n",
      "0.7926564759347242                                                                 \n",
      "SCore:                                                                             \n",
      "0.788029332782483                                                                  \n",
      " 25%|██▌       | 25/100 [00:02<00:10,  7.20trial/s, best loss: 0.20424499070440005]"
     ]
    },
    {
     "name": "stderr",
     "output_type": "stream",
     "text": [
      "d:\\Belajar\\Pacmann\\Final project\\CAR_INSURANCE_PREDICTION\\.env\\lib\\site-packages\\xgboost\\sklearn.py:861: UserWarning: `early_stopping_rounds` in `fit` method is deprecated for better compatibility with scikit-learn, use `early_stopping_rounds` in constructor or`set_params` instead.\n",
      "  warnings.warn(\n",
      "\n",
      "d:\\Belajar\\Pacmann\\Final project\\CAR_INSURANCE_PREDICTION\\.env\\lib\\site-packages\\xgboost\\sklearn.py:861: UserWarning: `early_stopping_rounds` in `fit` method is deprecated for better compatibility with scikit-learn, use `early_stopping_rounds` in constructor or`set_params` instead.\n",
      "  warnings.warn(\n",
      "\n"
     ]
    },
    {
     "name": "stdout",
     "output_type": "stream",
     "text": [
      "SCore:                                                                             \n",
      "0.7942057426151622                                                                 \n",
      "SCore:                                                                             \n",
      "0.7915926461474903                                                                 \n",
      " 27%|██▋       | 27/100 [00:03<00:08,  8.25trial/s, best loss: 0.20424499070440005]"
     ]
    },
    {
     "name": "stderr",
     "output_type": "stream",
     "text": [
      "d:\\Belajar\\Pacmann\\Final project\\CAR_INSURANCE_PREDICTION\\.env\\lib\\site-packages\\xgboost\\sklearn.py:861: UserWarning: `early_stopping_rounds` in `fit` method is deprecated for better compatibility with scikit-learn, use `early_stopping_rounds` in constructor or`set_params` instead.\n",
      "  warnings.warn(\n",
      "\n",
      "d:\\Belajar\\Pacmann\\Final project\\CAR_INSURANCE_PREDICTION\\.env\\lib\\site-packages\\xgboost\\sklearn.py:861: UserWarning: `early_stopping_rounds` in `fit` method is deprecated for better compatibility with scikit-learn, use `early_stopping_rounds` in constructor or`set_params` instead.\n",
      "  warnings.warn(\n",
      "\n"
     ]
    },
    {
     "name": "stdout",
     "output_type": "stream",
     "text": [
      "SCore:                                                                             \n",
      "0.7853232803139847                                                                 \n",
      "SCore:                                                                             \n",
      "0.7887006816773394                                                                 \n",
      " 29%|██▉       | 29/100 [00:03<00:08,  8.53trial/s, best loss: 0.20424499070440005]"
     ]
    },
    {
     "name": "stderr",
     "output_type": "stream",
     "text": [
      "d:\\Belajar\\Pacmann\\Final project\\CAR_INSURANCE_PREDICTION\\.env\\lib\\site-packages\\xgboost\\sklearn.py:861: UserWarning: `early_stopping_rounds` in `fit` method is deprecated for better compatibility with scikit-learn, use `early_stopping_rounds` in constructor or`set_params` instead.\n",
      "  warnings.warn(\n",
      "\n",
      "d:\\Belajar\\Pacmann\\Final project\\CAR_INSURANCE_PREDICTION\\.env\\lib\\site-packages\\xgboost\\sklearn.py:861: UserWarning: `early_stopping_rounds` in `fit` method is deprecated for better compatibility with scikit-learn, use `early_stopping_rounds` in constructor or`set_params` instead.\n",
      "  warnings.warn(\n",
      "\n"
     ]
    },
    {
     "name": "stdout",
     "output_type": "stream",
     "text": [
      "SCore:                                                                             \n",
      "0.7868725469944227                                                                 \n",
      "SCore:                                                                             \n",
      "0.7800970873786407                                                                 \n",
      " 31%|███       | 31/100 [00:03<00:08,  8.00trial/s, best loss: 0.20424499070440005]"
     ]
    },
    {
     "name": "stderr",
     "output_type": "stream",
     "text": [
      "d:\\Belajar\\Pacmann\\Final project\\CAR_INSURANCE_PREDICTION\\.env\\lib\\site-packages\\xgboost\\sklearn.py:861: UserWarning: `early_stopping_rounds` in `fit` method is deprecated for better compatibility with scikit-learn, use `early_stopping_rounds` in constructor or`set_params` instead.\n",
      "  warnings.warn(\n",
      "\n",
      "d:\\Belajar\\Pacmann\\Final project\\CAR_INSURANCE_PREDICTION\\.env\\lib\\site-packages\\xgboost\\sklearn.py:861: UserWarning: `early_stopping_rounds` in `fit` method is deprecated for better compatibility with scikit-learn, use `early_stopping_rounds` in constructor or`set_params` instead.\n",
      "  warnings.warn(\n",
      "\n"
     ]
    },
    {
     "name": "stdout",
     "output_type": "stream",
     "text": [
      "SCore:                                                                             \n",
      "0.7910142532534601                                                                 \n",
      "SCore:                                                                             \n",
      "0.7853232803139847                                                                 \n",
      " 33%|███▎      | 33/100 [00:03<00:09,  7.44trial/s, best loss: 0.20424499070440005]"
     ]
    },
    {
     "name": "stderr",
     "output_type": "stream",
     "text": [
      "d:\\Belajar\\Pacmann\\Final project\\CAR_INSURANCE_PREDICTION\\.env\\lib\\site-packages\\xgboost\\sklearn.py:861: UserWarning: `early_stopping_rounds` in `fit` method is deprecated for better compatibility with scikit-learn, use `early_stopping_rounds` in constructor or`set_params` instead.\n",
      "  warnings.warn(\n",
      "\n",
      "d:\\Belajar\\Pacmann\\Final project\\CAR_INSURANCE_PREDICTION\\.env\\lib\\site-packages\\xgboost\\sklearn.py:861: UserWarning: `early_stopping_rounds` in `fit` method is deprecated for better compatibility with scikit-learn, use `early_stopping_rounds` in constructor or`set_params` instead.\n",
      "  warnings.warn(\n",
      "\n"
     ]
    },
    {
     "name": "stdout",
     "output_type": "stream",
     "text": [
      "SCore:                                                                             \n",
      "0.7982751497624457                                                                 \n",
      "SCore:                                                                             \n",
      "0.7902499483577774                                                                 \n",
      " 35%|███▌      | 35/100 [00:04<00:08,  7.48trial/s, best loss: 0.20172485023755427]"
     ]
    },
    {
     "name": "stderr",
     "output_type": "stream",
     "text": [
      "d:\\Belajar\\Pacmann\\Final project\\CAR_INSURANCE_PREDICTION\\.env\\lib\\site-packages\\xgboost\\sklearn.py:861: UserWarning: `early_stopping_rounds` in `fit` method is deprecated for better compatibility with scikit-learn, use `early_stopping_rounds` in constructor or`set_params` instead.\n",
      "  warnings.warn(\n",
      "\n",
      "d:\\Belajar\\Pacmann\\Final project\\CAR_INSURANCE_PREDICTION\\.env\\lib\\site-packages\\xgboost\\sklearn.py:861: UserWarning: `early_stopping_rounds` in `fit` method is deprecated for better compatibility with scikit-learn, use `early_stopping_rounds` in constructor or`set_params` instead.\n",
      "  warnings.warn(\n",
      "\n"
     ]
    },
    {
     "name": "stdout",
     "output_type": "stream",
     "text": [
      "SCore:                                                                             \n",
      "0.7962404461888039                                                                 \n",
      "SCore:                                                                             \n",
      "0.788029332782483                                                                  \n",
      " 37%|███▋      | 37/100 [00:04<00:08,  7.44trial/s, best loss: 0.20172485023755427]"
     ]
    },
    {
     "name": "stderr",
     "output_type": "stream",
     "text": [
      "d:\\Belajar\\Pacmann\\Final project\\CAR_INSURANCE_PREDICTION\\.env\\lib\\site-packages\\xgboost\\sklearn.py:861: UserWarning: `early_stopping_rounds` in `fit` method is deprecated for better compatibility with scikit-learn, use `early_stopping_rounds` in constructor or`set_params` instead.\n",
      "  warnings.warn(\n",
      "\n",
      "d:\\Belajar\\Pacmann\\Final project\\CAR_INSURANCE_PREDICTION\\.env\\lib\\site-packages\\xgboost\\sklearn.py:861: UserWarning: `early_stopping_rounds` in `fit` method is deprecated for better compatibility with scikit-learn, use `early_stopping_rounds` in constructor or`set_params` instead.\n",
      "  warnings.warn(\n",
      "\n"
     ]
    },
    {
     "name": "stdout",
     "output_type": "stream",
     "text": [
      "SCore:                                                                             \n",
      "0.7879363767816567                                                                 \n",
      "SCore:                                                                             \n",
      "0.7874509398884528                                                                 \n",
      " 39%|███▉      | 39/100 [00:04<00:07,  8.14trial/s, best loss: 0.20172485023755427]"
     ]
    },
    {
     "name": "stderr",
     "output_type": "stream",
     "text": [
      "d:\\Belajar\\Pacmann\\Final project\\CAR_INSURANCE_PREDICTION\\.env\\lib\\site-packages\\xgboost\\sklearn.py:861: UserWarning: `early_stopping_rounds` in `fit` method is deprecated for better compatibility with scikit-learn, use `early_stopping_rounds` in constructor or`set_params` instead.\n",
      "  warnings.warn(\n",
      "\n",
      "d:\\Belajar\\Pacmann\\Final project\\CAR_INSURANCE_PREDICTION\\.env\\lib\\site-packages\\xgboost\\sklearn.py:861: UserWarning: `early_stopping_rounds` in `fit` method is deprecated for better compatibility with scikit-learn, use `early_stopping_rounds` in constructor or`set_params` instead.\n",
      "  warnings.warn(\n",
      "\n"
     ]
    },
    {
     "name": "stdout",
     "output_type": "stream",
     "text": [
      "SCore:                                                                             \n",
      "0.7957550092956                                                                    \n",
      "SCore:                                                                             \n",
      "0.7912208221441851                                                                 \n",
      " 41%|████      | 41/100 [00:04<00:06,  8.88trial/s, best loss: 0.20172485023755427]"
     ]
    },
    {
     "name": "stderr",
     "output_type": "stream",
     "text": [
      "d:\\Belajar\\Pacmann\\Final project\\CAR_INSURANCE_PREDICTION\\.env\\lib\\site-packages\\xgboost\\sklearn.py:861: UserWarning: `early_stopping_rounds` in `fit` method is deprecated for better compatibility with scikit-learn, use `early_stopping_rounds` in constructor or`set_params` instead.\n",
      "  warnings.warn(\n",
      "\n",
      "d:\\Belajar\\Pacmann\\Final project\\CAR_INSURANCE_PREDICTION\\.env\\lib\\site-packages\\xgboost\\sklearn.py:861: UserWarning: `early_stopping_rounds` in `fit` method is deprecated for better compatibility with scikit-learn, use `early_stopping_rounds` in constructor or`set_params` instead.\n",
      "  warnings.warn(\n",
      "\n"
     ]
    },
    {
     "name": "stdout",
     "output_type": "stream",
     "text": [
      "SCore:                                                                             \n",
      "0.7869655029952489                                                                 \n",
      "SCore:                                                                             \n",
      "0.779126213592233                                                                  \n",
      " 43%|████▎     | 43/100 [00:05<00:07,  8.07trial/s, best loss: 0.20172485023755427]"
     ]
    },
    {
     "name": "stderr",
     "output_type": "stream",
     "text": [
      "d:\\Belajar\\Pacmann\\Final project\\CAR_INSURANCE_PREDICTION\\.env\\lib\\site-packages\\xgboost\\sklearn.py:861: UserWarning: `early_stopping_rounds` in `fit` method is deprecated for better compatibility with scikit-learn, use `early_stopping_rounds` in constructor or`set_params` instead.\n",
      "  warnings.warn(\n",
      "\n",
      "d:\\Belajar\\Pacmann\\Final project\\CAR_INSURANCE_PREDICTION\\.env\\lib\\site-packages\\xgboost\\sklearn.py:861: UserWarning: `early_stopping_rounds` in `fit` method is deprecated for better compatibility with scikit-learn, use `early_stopping_rounds` in constructor or`set_params` instead.\n",
      "  warnings.warn(\n",
      "\n"
     ]
    },
    {
     "name": "stdout",
     "output_type": "stream",
     "text": [
      "SCore:                                                                             \n",
      "0.7796116504854369                                                                 \n",
      "SCore:                                                                             \n",
      "0.7790332575914067                                                                 \n",
      " 45%|████▌     | 45/100 [00:05<00:07,  7.39trial/s, best loss: 0.20172485023755427]"
     ]
    },
    {
     "name": "stderr",
     "output_type": "stream",
     "text": [
      "d:\\Belajar\\Pacmann\\Final project\\CAR_INSURANCE_PREDICTION\\.env\\lib\\site-packages\\xgboost\\sklearn.py:861: UserWarning: `early_stopping_rounds` in `fit` method is deprecated for better compatibility with scikit-learn, use `early_stopping_rounds` in constructor or`set_params` instead.\n",
      "  warnings.warn(\n",
      "\n",
      "d:\\Belajar\\Pacmann\\Final project\\CAR_INSURANCE_PREDICTION\\.env\\lib\\site-packages\\xgboost\\sklearn.py:861: UserWarning: `early_stopping_rounds` in `fit` method is deprecated for better compatibility with scikit-learn, use `early_stopping_rounds` in constructor or`set_params` instead.\n",
      "  warnings.warn(\n",
      "\n"
     ]
    },
    {
     "name": "stdout",
     "output_type": "stream",
     "text": [
      "SCore:                                                                             \n",
      "0.7886077256765132                                                                 \n",
      "SCore:                                                                             \n",
      "0.7838669696343731                                                                 \n",
      " 47%|████▋     | 47/100 [00:05<00:06,  8.12trial/s, best loss: 0.20172485023755427]"
     ]
    },
    {
     "name": "stderr",
     "output_type": "stream",
     "text": [
      "d:\\Belajar\\Pacmann\\Final project\\CAR_INSURANCE_PREDICTION\\.env\\lib\\site-packages\\xgboost\\sklearn.py:861: UserWarning: `early_stopping_rounds` in `fit` method is deprecated for better compatibility with scikit-learn, use `early_stopping_rounds` in constructor or`set_params` instead.\n",
      "  warnings.warn(\n",
      "\n",
      "d:\\Belajar\\Pacmann\\Final project\\CAR_INSURANCE_PREDICTION\\.env\\lib\\site-packages\\xgboost\\sklearn.py:861: UserWarning: `early_stopping_rounds` in `fit` method is deprecated for better compatibility with scikit-learn, use `early_stopping_rounds` in constructor or`set_params` instead.\n",
      "  warnings.warn(\n",
      "\n"
     ]
    },
    {
     "name": "stdout",
     "output_type": "stream",
     "text": [
      "SCore:                                                                             \n",
      "0.7944123115058872                                                                 \n",
      "SCore:                                                                             \n",
      "0.7864800661020451                                                                 \n",
      " 49%|████▉     | 49/100 [00:05<00:06,  8.21trial/s, best loss: 0.20172485023755427]"
     ]
    },
    {
     "name": "stderr",
     "output_type": "stream",
     "text": [
      "d:\\Belajar\\Pacmann\\Final project\\CAR_INSURANCE_PREDICTION\\.env\\lib\\site-packages\\xgboost\\sklearn.py:861: UserWarning: `early_stopping_rounds` in `fit` method is deprecated for better compatibility with scikit-learn, use `early_stopping_rounds` in constructor or`set_params` instead.\n",
      "  warnings.warn(\n",
      "\n",
      "d:\\Belajar\\Pacmann\\Final project\\CAR_INSURANCE_PREDICTION\\.env\\lib\\site-packages\\xgboost\\sklearn.py:861: UserWarning: `early_stopping_rounds` in `fit` method is deprecated for better compatibility with scikit-learn, use `early_stopping_rounds` in constructor or`set_params` instead.\n",
      "  warnings.warn(\n",
      "\n"
     ]
    },
    {
     "name": "stdout",
     "output_type": "stream",
     "text": [
      "SCore:                                                                             \n",
      "0.7869655029952489                                                                 \n",
      "SCore:                                                                             \n",
      "0.7764201611237349                                                                 \n",
      " 51%|█████     | 51/100 [00:06<00:06,  8.06trial/s, best loss: 0.20172485023755427]"
     ]
    },
    {
     "name": "stderr",
     "output_type": "stream",
     "text": [
      "d:\\Belajar\\Pacmann\\Final project\\CAR_INSURANCE_PREDICTION\\.env\\lib\\site-packages\\xgboost\\sklearn.py:861: UserWarning: `early_stopping_rounds` in `fit` method is deprecated for better compatibility with scikit-learn, use `early_stopping_rounds` in constructor or`set_params` instead.\n",
      "  warnings.warn(\n",
      "\n",
      "d:\\Belajar\\Pacmann\\Final project\\CAR_INSURANCE_PREDICTION\\.env\\lib\\site-packages\\xgboost\\sklearn.py:861: UserWarning: `early_stopping_rounds` in `fit` method is deprecated for better compatibility with scikit-learn, use `early_stopping_rounds` in constructor or`set_params` instead.\n",
      "  warnings.warn(\n",
      "\n"
     ]
    },
    {
     "name": "stdout",
     "output_type": "stream",
     "text": [
      "SCore:                                                                             \n",
      "0.7870584589960753                                                                 \n",
      "SCore:                                                                             \n",
      "0.7925635199338981                                                                 \n",
      " 53%|█████▎    | 53/100 [00:06<00:05,  8.85trial/s, best loss: 0.20172485023755427]"
     ]
    },
    {
     "name": "stderr",
     "output_type": "stream",
     "text": [
      "d:\\Belajar\\Pacmann\\Final project\\CAR_INSURANCE_PREDICTION\\.env\\lib\\site-packages\\xgboost\\sklearn.py:861: UserWarning: `early_stopping_rounds` in `fit` method is deprecated for better compatibility with scikit-learn, use `early_stopping_rounds` in constructor or`set_params` instead.\n",
      "  warnings.warn(\n",
      "\n",
      "d:\\Belajar\\Pacmann\\Final project\\CAR_INSURANCE_PREDICTION\\.env\\lib\\site-packages\\xgboost\\sklearn.py:861: UserWarning: `early_stopping_rounds` in `fit` method is deprecated for better compatibility with scikit-learn, use `early_stopping_rounds` in constructor or`set_params` instead.\n",
      "  warnings.warn(\n",
      "\n"
     ]
    },
    {
     "name": "stdout",
     "output_type": "stream",
     "text": [
      "SCore:                                                                             \n",
      "0.7886077256765132                                                                 \n",
      "SCore:                                                                             \n",
      "0.7922846519314192                                                                 \n",
      " 55%|█████▌    | 55/100 [00:06<00:05,  7.86trial/s, best loss: 0.20172485023755427]"
     ]
    },
    {
     "name": "stderr",
     "output_type": "stream",
     "text": [
      "d:\\Belajar\\Pacmann\\Final project\\CAR_INSURANCE_PREDICTION\\.env\\lib\\site-packages\\xgboost\\sklearn.py:861: UserWarning: `early_stopping_rounds` in `fit` method is deprecated for better compatibility with scikit-learn, use `early_stopping_rounds` in constructor or`set_params` instead.\n",
      "  warnings.warn(\n",
      "\n",
      "d:\\Belajar\\Pacmann\\Final project\\CAR_INSURANCE_PREDICTION\\.env\\lib\\site-packages\\xgboost\\sklearn.py:861: UserWarning: `early_stopping_rounds` in `fit` method is deprecated for better compatibility with scikit-learn, use `early_stopping_rounds` in constructor or`set_params` instead.\n",
      "  warnings.warn(\n",
      "\n"
     ]
    },
    {
     "name": "stdout",
     "output_type": "stream",
     "text": [
      "SCore:                                                                             \n",
      "0.7853232803139847                                                                 \n",
      "SCore:                                                                             \n",
      "0.788029332782483                                                                  \n",
      " 57%|█████▋    | 57/100 [00:06<00:05,  7.93trial/s, best loss: 0.20172485023755427]"
     ]
    },
    {
     "name": "stderr",
     "output_type": "stream",
     "text": [
      "d:\\Belajar\\Pacmann\\Final project\\CAR_INSURANCE_PREDICTION\\.env\\lib\\site-packages\\xgboost\\sklearn.py:861: UserWarning: `early_stopping_rounds` in `fit` method is deprecated for better compatibility with scikit-learn, use `early_stopping_rounds` in constructor or`set_params` instead.\n",
      "  warnings.warn(\n",
      "\n",
      "d:\\Belajar\\Pacmann\\Final project\\CAR_INSURANCE_PREDICTION\\.env\\lib\\site-packages\\xgboost\\sklearn.py:861: UserWarning: `early_stopping_rounds` in `fit` method is deprecated for better compatibility with scikit-learn, use `early_stopping_rounds` in constructor or`set_params` instead.\n",
      "  warnings.warn(\n",
      "\n"
     ]
    },
    {
     "name": "stdout",
     "output_type": "stream",
     "text": [
      "SCore:                                                                             \n",
      "0.7838669696343731                                                                 \n",
      "SCore:                                                                             \n",
      "0.7901569923569511                                                                 \n",
      " 59%|█████▉    | 59/100 [00:07<00:04,  8.48trial/s, best loss: 0.20172485023755427]"
     ]
    },
    {
     "name": "stderr",
     "output_type": "stream",
     "text": [
      "d:\\Belajar\\Pacmann\\Final project\\CAR_INSURANCE_PREDICTION\\.env\\lib\\site-packages\\xgboost\\sklearn.py:861: UserWarning: `early_stopping_rounds` in `fit` method is deprecated for better compatibility with scikit-learn, use `early_stopping_rounds` in constructor or`set_params` instead.\n",
      "  warnings.warn(\n",
      "\n",
      "d:\\Belajar\\Pacmann\\Final project\\CAR_INSURANCE_PREDICTION\\.env\\lib\\site-packages\\xgboost\\sklearn.py:861: UserWarning: `early_stopping_rounds` in `fit` method is deprecated for better compatibility with scikit-learn, use `early_stopping_rounds` in constructor or`set_params` instead.\n",
      "  warnings.warn(\n",
      "\n"
     ]
    },
    {
     "name": "stdout",
     "output_type": "stream",
     "text": [
      "SCore:                                                                             \n",
      "0.7832885767403428                                                                 \n",
      "SCore:                                                                             \n",
      "0.7859946292088413                                                                 \n",
      " 61%|██████    | 61/100 [00:07<00:04,  8.60trial/s, best loss: 0.20172485023755427]"
     ]
    },
    {
     "name": "stderr",
     "output_type": "stream",
     "text": [
      "d:\\Belajar\\Pacmann\\Final project\\CAR_INSURANCE_PREDICTION\\.env\\lib\\site-packages\\xgboost\\sklearn.py:861: UserWarning: `early_stopping_rounds` in `fit` method is deprecated for better compatibility with scikit-learn, use `early_stopping_rounds` in constructor or`set_params` instead.\n",
      "  warnings.warn(\n",
      "\n",
      "d:\\Belajar\\Pacmann\\Final project\\CAR_INSURANCE_PREDICTION\\.env\\lib\\site-packages\\xgboost\\sklearn.py:861: UserWarning: `early_stopping_rounds` in `fit` method is deprecated for better compatibility with scikit-learn, use `early_stopping_rounds` in constructor or`set_params` instead.\n",
      "  warnings.warn(\n",
      "\n"
     ]
    },
    {
     "name": "stdout",
     "output_type": "stream",
     "text": [
      "SCore:                                                                             \n",
      "0.7859946292088413                                                                 \n",
      "SCore:                                                                             \n",
      "0.7881222887833093                                                                 \n",
      " 63%|██████▎   | 63/100 [00:07<00:04,  8.71trial/s, best loss: 0.20172485023755427]"
     ]
    },
    {
     "name": "stderr",
     "output_type": "stream",
     "text": [
      "d:\\Belajar\\Pacmann\\Final project\\CAR_INSURANCE_PREDICTION\\.env\\lib\\site-packages\\xgboost\\sklearn.py:861: UserWarning: `early_stopping_rounds` in `fit` method is deprecated for better compatibility with scikit-learn, use `early_stopping_rounds` in constructor or`set_params` instead.\n",
      "  warnings.warn(\n",
      "\n",
      "d:\\Belajar\\Pacmann\\Final project\\CAR_INSURANCE_PREDICTION\\.env\\lib\\site-packages\\xgboost\\sklearn.py:861: UserWarning: `early_stopping_rounds` in `fit` method is deprecated for better compatibility with scikit-learn, use `early_stopping_rounds` in constructor or`set_params` instead.\n",
      "  warnings.warn(\n",
      "\n"
     ]
    },
    {
     "name": "stdout",
     "output_type": "stream",
     "text": [
      "SCore:                                                                             \n",
      "0.7806754802726711                                                                 \n",
      "SCore:                                                                             \n",
      "0.7902499483577774                                                                 \n",
      " 65%|██████▌   | 65/100 [00:07<00:04,  7.68trial/s, best loss: 0.20172485023755427]"
     ]
    },
    {
     "name": "stderr",
     "output_type": "stream",
     "text": [
      "d:\\Belajar\\Pacmann\\Final project\\CAR_INSURANCE_PREDICTION\\.env\\lib\\site-packages\\xgboost\\sklearn.py:861: UserWarning: `early_stopping_rounds` in `fit` method is deprecated for better compatibility with scikit-learn, use `early_stopping_rounds` in constructor or`set_params` instead.\n",
      "  warnings.warn(\n",
      "\n",
      "d:\\Belajar\\Pacmann\\Final project\\CAR_INSURANCE_PREDICTION\\.env\\lib\\site-packages\\xgboost\\sklearn.py:861: UserWarning: `early_stopping_rounds` in `fit` method is deprecated for better compatibility with scikit-learn, use `early_stopping_rounds` in constructor or`set_params` instead.\n",
      "  warnings.warn(\n",
      "\n"
     ]
    },
    {
     "name": "stdout",
     "output_type": "stream",
     "text": [
      "SCore:                                                                             \n",
      "0.7912208221441851                                                                 \n",
      "SCore:                                                                             \n",
      "0.7957550092956                                                                    \n",
      " 67%|██████▋   | 67/100 [00:08<00:03,  8.28trial/s, best loss: 0.20172485023755427]"
     ]
    },
    {
     "name": "stderr",
     "output_type": "stream",
     "text": [
      "d:\\Belajar\\Pacmann\\Final project\\CAR_INSURANCE_PREDICTION\\.env\\lib\\site-packages\\xgboost\\sklearn.py:861: UserWarning: `early_stopping_rounds` in `fit` method is deprecated for better compatibility with scikit-learn, use `early_stopping_rounds` in constructor or`set_params` instead.\n",
      "  warnings.warn(\n",
      "\n",
      "d:\\Belajar\\Pacmann\\Final project\\CAR_INSURANCE_PREDICTION\\.env\\lib\\site-packages\\xgboost\\sklearn.py:861: UserWarning: `early_stopping_rounds` in `fit` method is deprecated for better compatibility with scikit-learn, use `early_stopping_rounds` in constructor or`set_params` instead.\n",
      "  warnings.warn(\n",
      "\n"
     ]
    },
    {
     "name": "stdout",
     "output_type": "stream",
     "text": [
      "SCore:                                                                             \n",
      "0.7962404461888039                                                                 \n",
      "SCore:                                                                             \n",
      "0.7962404461888039                                                                 \n",
      " 69%|██████▉   | 69/100 [00:08<00:03,  8.94trial/s, best loss: 0.20172485023755427]"
     ]
    },
    {
     "name": "stderr",
     "output_type": "stream",
     "text": [
      "d:\\Belajar\\Pacmann\\Final project\\CAR_INSURANCE_PREDICTION\\.env\\lib\\site-packages\\xgboost\\sklearn.py:861: UserWarning: `early_stopping_rounds` in `fit` method is deprecated for better compatibility with scikit-learn, use `early_stopping_rounds` in constructor or`set_params` instead.\n",
      "  warnings.warn(\n",
      "\n",
      "d:\\Belajar\\Pacmann\\Final project\\CAR_INSURANCE_PREDICTION\\.env\\lib\\site-packages\\xgboost\\sklearn.py:861: UserWarning: `early_stopping_rounds` in `fit` method is deprecated for better compatibility with scikit-learn, use `early_stopping_rounds` in constructor or`set_params` instead.\n",
      "  warnings.warn(\n",
      "\n"
     ]
    },
    {
     "name": "stdout",
     "output_type": "stream",
     "text": [
      "SCore:                                                                             \n",
      "0.7922846519314192                                                                 \n",
      "SCore:                                                                             \n",
      "0.7886077256765132                                                                 \n",
      " 71%|███████   | 71/100 [00:08<00:03,  8.74trial/s, best loss: 0.20172485023755427]"
     ]
    },
    {
     "name": "stderr",
     "output_type": "stream",
     "text": [
      "d:\\Belajar\\Pacmann\\Final project\\CAR_INSURANCE_PREDICTION\\.env\\lib\\site-packages\\xgboost\\sklearn.py:861: UserWarning: `early_stopping_rounds` in `fit` method is deprecated for better compatibility with scikit-learn, use `early_stopping_rounds` in constructor or`set_params` instead.\n",
      "  warnings.warn(\n",
      "\n",
      "d:\\Belajar\\Pacmann\\Final project\\CAR_INSURANCE_PREDICTION\\.env\\lib\\site-packages\\xgboost\\sklearn.py:861: UserWarning: `early_stopping_rounds` in `fit` method is deprecated for better compatibility with scikit-learn, use `early_stopping_rounds` in constructor or`set_params` instead.\n",
      "  warnings.warn(\n",
      "\n"
     ]
    },
    {
     "name": "stdout",
     "output_type": "stream",
     "text": [
      "SCore:                                                                             \n",
      "0.7879363767816567                                                                 \n",
      "SCore:                                                                             \n",
      "0.7957550092956                                                                    \n",
      " 73%|███████▎  | 73/100 [00:08<00:03,  8.89trial/s, best loss: 0.20172485023755427]"
     ]
    },
    {
     "name": "stderr",
     "output_type": "stream",
     "text": [
      "d:\\Belajar\\Pacmann\\Final project\\CAR_INSURANCE_PREDICTION\\.env\\lib\\site-packages\\xgboost\\sklearn.py:861: UserWarning: `early_stopping_rounds` in `fit` method is deprecated for better compatibility with scikit-learn, use `early_stopping_rounds` in constructor or`set_params` instead.\n",
      "  warnings.warn(\n",
      "\n",
      "d:\\Belajar\\Pacmann\\Final project\\CAR_INSURANCE_PREDICTION\\.env\\lib\\site-packages\\xgboost\\sklearn.py:861: UserWarning: `early_stopping_rounds` in `fit` method is deprecated for better compatibility with scikit-learn, use `early_stopping_rounds` in constructor or`set_params` instead.\n",
      "  warnings.warn(\n",
      "\n"
     ]
    },
    {
     "name": "stdout",
     "output_type": "stream",
     "text": [
      "SCore:                                                                             \n",
      "0.788029332782483                                                                  \n",
      "SCore:                                                                             \n",
      "0.7886077256765132                                                                 \n",
      " 75%|███████▌  | 75/100 [00:08<00:02,  8.88trial/s, best loss: 0.20172485023755427]"
     ]
    },
    {
     "name": "stderr",
     "output_type": "stream",
     "text": [
      "d:\\Belajar\\Pacmann\\Final project\\CAR_INSURANCE_PREDICTION\\.env\\lib\\site-packages\\xgboost\\sklearn.py:861: UserWarning: `early_stopping_rounds` in `fit` method is deprecated for better compatibility with scikit-learn, use `early_stopping_rounds` in constructor or`set_params` instead.\n",
      "  warnings.warn(\n",
      "\n",
      "d:\\Belajar\\Pacmann\\Final project\\CAR_INSURANCE_PREDICTION\\.env\\lib\\site-packages\\xgboost\\sklearn.py:861: UserWarning: `early_stopping_rounds` in `fit` method is deprecated for better compatibility with scikit-learn, use `early_stopping_rounds` in constructor or`set_params` instead.\n",
      "  warnings.warn(\n",
      "\n"
     ]
    },
    {
     "name": "stdout",
     "output_type": "stream",
     "text": [
      "SCore:                                                                             \n",
      "0.7890931625697171                                                                 \n",
      "SCore:                                                                             \n",
      "0.7902499483577774                                                                 \n",
      " 77%|███████▋  | 77/100 [00:09<00:02,  7.96trial/s, best loss: 0.20172485023755427]"
     ]
    },
    {
     "name": "stderr",
     "output_type": "stream",
     "text": [
      "d:\\Belajar\\Pacmann\\Final project\\CAR_INSURANCE_PREDICTION\\.env\\lib\\site-packages\\xgboost\\sklearn.py:861: UserWarning: `early_stopping_rounds` in `fit` method is deprecated for better compatibility with scikit-learn, use `early_stopping_rounds` in constructor or`set_params` instead.\n",
      "  warnings.warn(\n",
      "\n",
      "d:\\Belajar\\Pacmann\\Final project\\CAR_INSURANCE_PREDICTION\\.env\\lib\\site-packages\\xgboost\\sklearn.py:861: UserWarning: `early_stopping_rounds` in `fit` method is deprecated for better compatibility with scikit-learn, use `early_stopping_rounds` in constructor or`set_params` instead.\n",
      "  warnings.warn(\n",
      "\n"
     ]
    },
    {
     "name": "stdout",
     "output_type": "stream",
     "text": [
      "SCore:                                                                             \n",
      "0.7838669696343731                                                                 \n",
      "SCore:                                                                             \n",
      "0.7912208221441851                                                                 \n",
      " 79%|███████▉  | 79/100 [00:09<00:02,  7.86trial/s, best loss: 0.20172485023755427]"
     ]
    },
    {
     "name": "stderr",
     "output_type": "stream",
     "text": [
      "d:\\Belajar\\Pacmann\\Final project\\CAR_INSURANCE_PREDICTION\\.env\\lib\\site-packages\\xgboost\\sklearn.py:861: UserWarning: `early_stopping_rounds` in `fit` method is deprecated for better compatibility with scikit-learn, use `early_stopping_rounds` in constructor or`set_params` instead.\n",
      "  warnings.warn(\n",
      "\n",
      "d:\\Belajar\\Pacmann\\Final project\\CAR_INSURANCE_PREDICTION\\.env\\lib\\site-packages\\xgboost\\sklearn.py:861: UserWarning: `early_stopping_rounds` in `fit` method is deprecated for better compatibility with scikit-learn, use `early_stopping_rounds` in constructor or`set_params` instead.\n",
      "  warnings.warn(\n",
      "\n"
     ]
    },
    {
     "name": "stdout",
     "output_type": "stream",
     "text": [
      "SCore:                                                                             \n",
      "0.7895785994629207                                                                 \n",
      "SCore:                                                                             \n",
      "0.7886077256765132                                                                 \n",
      " 81%|████████  | 81/100 [00:09<00:02,  7.91trial/s, best loss: 0.20172485023755427]"
     ]
    },
    {
     "name": "stderr",
     "output_type": "stream",
     "text": [
      "d:\\Belajar\\Pacmann\\Final project\\CAR_INSURANCE_PREDICTION\\.env\\lib\\site-packages\\xgboost\\sklearn.py:861: UserWarning: `early_stopping_rounds` in `fit` method is deprecated for better compatibility with scikit-learn, use `early_stopping_rounds` in constructor or`set_params` instead.\n",
      "  warnings.warn(\n",
      "\n",
      "d:\\Belajar\\Pacmann\\Final project\\CAR_INSURANCE_PREDICTION\\.env\\lib\\site-packages\\xgboost\\sklearn.py:861: UserWarning: `early_stopping_rounds` in `fit` method is deprecated for better compatibility with scikit-learn, use `early_stopping_rounds` in constructor or`set_params` instead.\n",
      "  warnings.warn(\n",
      "\n"
     ]
    },
    {
     "name": "stdout",
     "output_type": "stream",
     "text": [
      "SCore:                                                                             \n",
      "0.7957550092956                                                                    \n",
      "SCore:                                                                             \n",
      "0.7849307994216072                                                                 \n",
      " 83%|████████▎ | 83/100 [00:10<00:02,  6.89trial/s, best loss: 0.20172485023755427]"
     ]
    },
    {
     "name": "stderr",
     "output_type": "stream",
     "text": [
      "d:\\Belajar\\Pacmann\\Final project\\CAR_INSURANCE_PREDICTION\\.env\\lib\\site-packages\\xgboost\\sklearn.py:861: UserWarning: `early_stopping_rounds` in `fit` method is deprecated for better compatibility with scikit-learn, use `early_stopping_rounds` in constructor or`set_params` instead.\n",
      "  warnings.warn(\n",
      "\n",
      "d:\\Belajar\\Pacmann\\Final project\\CAR_INSURANCE_PREDICTION\\.env\\lib\\site-packages\\xgboost\\sklearn.py:861: UserWarning: `early_stopping_rounds` in `fit` method is deprecated for better compatibility with scikit-learn, use `early_stopping_rounds` in constructor or`set_params` instead.\n",
      "  warnings.warn(\n",
      "\n"
     ]
    },
    {
     "name": "stdout",
     "output_type": "stream",
     "text": [
      "SCore:                                                                             \n",
      "0.7902499483577774                                                                 \n",
      "SCore:                                                                             \n",
      "0.788029332782483                                                                  \n",
      " 85%|████████▌ | 85/100 [00:10<00:02,  6.93trial/s, best loss: 0.20172485023755427]"
     ]
    },
    {
     "name": "stderr",
     "output_type": "stream",
     "text": [
      "d:\\Belajar\\Pacmann\\Final project\\CAR_INSURANCE_PREDICTION\\.env\\lib\\site-packages\\xgboost\\sklearn.py:861: UserWarning: `early_stopping_rounds` in `fit` method is deprecated for better compatibility with scikit-learn, use `early_stopping_rounds` in constructor or`set_params` instead.\n",
      "  warnings.warn(\n",
      "\n",
      "d:\\Belajar\\Pacmann\\Final project\\CAR_INSURANCE_PREDICTION\\.env\\lib\\site-packages\\xgboost\\sklearn.py:861: UserWarning: `early_stopping_rounds` in `fit` method is deprecated for better compatibility with scikit-learn, use `early_stopping_rounds` in constructor or`set_params` instead.\n",
      "  warnings.warn(\n",
      "\n"
     ]
    },
    {
     "name": "stdout",
     "output_type": "stream",
     "text": [
      "SCore:                                                                             \n",
      "0.7870584589960753                                                                 \n",
      "SCore:                                                                             \n",
      "0.7901569923569511                                                                 \n",
      " 87%|████████▋ | 87/100 [00:10<00:01,  7.69trial/s, best loss: 0.20172485023755427]"
     ]
    },
    {
     "name": "stderr",
     "output_type": "stream",
     "text": [
      "d:\\Belajar\\Pacmann\\Final project\\CAR_INSURANCE_PREDICTION\\.env\\lib\\site-packages\\xgboost\\sklearn.py:861: UserWarning: `early_stopping_rounds` in `fit` method is deprecated for better compatibility with scikit-learn, use `early_stopping_rounds` in constructor or`set_params` instead.\n",
      "  warnings.warn(\n",
      "\n",
      "d:\\Belajar\\Pacmann\\Final project\\CAR_INSURANCE_PREDICTION\\.env\\lib\\site-packages\\xgboost\\sklearn.py:861: UserWarning: `early_stopping_rounds` in `fit` method is deprecated for better compatibility with scikit-learn, use `early_stopping_rounds` in constructor or`set_params` instead.\n",
      "  warnings.warn(\n",
      "\n"
     ]
    },
    {
     "name": "stdout",
     "output_type": "stream",
     "text": [
      "SCore:                                                                             \n",
      "0.7796116504854369                                                                 \n",
      "SCore:                                                                             \n",
      "0.7926564759347242                                                                 \n",
      " 89%|████████▉ | 89/100 [00:10<00:01,  7.81trial/s, best loss: 0.20172485023755427]"
     ]
    },
    {
     "name": "stderr",
     "output_type": "stream",
     "text": [
      "d:\\Belajar\\Pacmann\\Final project\\CAR_INSURANCE_PREDICTION\\.env\\lib\\site-packages\\xgboost\\sklearn.py:861: UserWarning: `early_stopping_rounds` in `fit` method is deprecated for better compatibility with scikit-learn, use `early_stopping_rounds` in constructor or`set_params` instead.\n",
      "  warnings.warn(\n",
      "\n",
      "d:\\Belajar\\Pacmann\\Final project\\CAR_INSURANCE_PREDICTION\\.env\\lib\\site-packages\\xgboost\\sklearn.py:861: UserWarning: `early_stopping_rounds` in `fit` method is deprecated for better compatibility with scikit-learn, use `early_stopping_rounds` in constructor or`set_params` instead.\n",
      "  warnings.warn(\n",
      "\n"
     ]
    },
    {
     "name": "stdout",
     "output_type": "stream",
     "text": [
      "SCore:                                                                             \n",
      "0.7912208221441851                                                                 \n",
      "SCore:                                                                             \n",
      "0.7868725469944227                                                                 \n",
      " 91%|█████████ | 91/100 [00:11<00:01,  6.97trial/s, best loss: 0.20172485023755427]"
     ]
    },
    {
     "name": "stderr",
     "output_type": "stream",
     "text": [
      "d:\\Belajar\\Pacmann\\Final project\\CAR_INSURANCE_PREDICTION\\.env\\lib\\site-packages\\xgboost\\sklearn.py:861: UserWarning: `early_stopping_rounds` in `fit` method is deprecated for better compatibility with scikit-learn, use `early_stopping_rounds` in constructor or`set_params` instead.\n",
      "  warnings.warn(\n",
      "\n",
      "d:\\Belajar\\Pacmann\\Final project\\CAR_INSURANCE_PREDICTION\\.env\\lib\\site-packages\\xgboost\\sklearn.py:861: UserWarning: `early_stopping_rounds` in `fit` method is deprecated for better compatibility with scikit-learn, use `early_stopping_rounds` in constructor or`set_params` instead.\n",
      "  warnings.warn(\n",
      "\n"
     ]
    },
    {
     "name": "stdout",
     "output_type": "stream",
     "text": [
      "SCore:                                                                             \n",
      "0.7864800661020451                                                                 \n",
      "SCore:                                                                             \n",
      "0.7881222887833093                                                                 \n",
      " 93%|█████████▎| 93/100 [00:11<00:00,  7.74trial/s, best loss: 0.20172485023755427]"
     ]
    },
    {
     "name": "stderr",
     "output_type": "stream",
     "text": [
      "d:\\Belajar\\Pacmann\\Final project\\CAR_INSURANCE_PREDICTION\\.env\\lib\\site-packages\\xgboost\\sklearn.py:861: UserWarning: `early_stopping_rounds` in `fit` method is deprecated for better compatibility with scikit-learn, use `early_stopping_rounds` in constructor or`set_params` instead.\n",
      "  warnings.warn(\n",
      "\n",
      "d:\\Belajar\\Pacmann\\Final project\\CAR_INSURANCE_PREDICTION\\.env\\lib\\site-packages\\xgboost\\sklearn.py:861: UserWarning: `early_stopping_rounds` in `fit` method is deprecated for better compatibility with scikit-learn, use `early_stopping_rounds` in constructor or`set_params` instead.\n",
      "  warnings.warn(\n",
      "\n"
     ]
    },
    {
     "name": "stdout",
     "output_type": "stream",
     "text": [
      "SCore:                                                                             \n",
      "0.7790332575914067                                                                 \n",
      "SCore:                                                                             \n",
      "0.7993389795496799                                                                 \n",
      " 95%|█████████▌| 95/100 [00:11<00:00,  8.06trial/s, best loss: 0.20066102045032008]"
     ]
    },
    {
     "name": "stderr",
     "output_type": "stream",
     "text": [
      "d:\\Belajar\\Pacmann\\Final project\\CAR_INSURANCE_PREDICTION\\.env\\lib\\site-packages\\xgboost\\sklearn.py:861: UserWarning: `early_stopping_rounds` in `fit` method is deprecated for better compatibility with scikit-learn, use `early_stopping_rounds` in constructor or`set_params` instead.\n",
      "  warnings.warn(\n",
      "\n",
      "d:\\Belajar\\Pacmann\\Final project\\CAR_INSURANCE_PREDICTION\\.env\\lib\\site-packages\\xgboost\\sklearn.py:861: UserWarning: `early_stopping_rounds` in `fit` method is deprecated for better compatibility with scikit-learn, use `early_stopping_rounds` in constructor or`set_params` instead.\n",
      "  warnings.warn(\n",
      "\n"
     ]
    },
    {
     "name": "stdout",
     "output_type": "stream",
     "text": [
      "SCore:                                                                             \n",
      "0.7910142532534601                                                                 \n",
      "SCore:                                                                             \n",
      "0.7907353852509811                                                                 \n",
      " 97%|█████████▋| 97/100 [00:11<00:00,  8.39trial/s, best loss: 0.20066102045032008]"
     ]
    },
    {
     "name": "stderr",
     "output_type": "stream",
     "text": [
      "d:\\Belajar\\Pacmann\\Final project\\CAR_INSURANCE_PREDICTION\\.env\\lib\\site-packages\\xgboost\\sklearn.py:861: UserWarning: `early_stopping_rounds` in `fit` method is deprecated for better compatibility with scikit-learn, use `early_stopping_rounds` in constructor or`set_params` instead.\n",
      "  warnings.warn(\n",
      "\n",
      "d:\\Belajar\\Pacmann\\Final project\\CAR_INSURANCE_PREDICTION\\.env\\lib\\site-packages\\xgboost\\sklearn.py:861: UserWarning: `early_stopping_rounds` in `fit` method is deprecated for better compatibility with scikit-learn, use `early_stopping_rounds` in constructor or`set_params` instead.\n",
      "  warnings.warn(\n",
      "\n"
     ]
    },
    {
     "name": "stdout",
     "output_type": "stream",
     "text": [
      "SCore:                                                                             \n",
      "0.7944123115058872                                                                 \n",
      "SCore:                                                                             \n",
      "0.7944123115058872                                                                 \n",
      " 99%|█████████▉| 99/100 [00:12<00:00,  8.66trial/s, best loss: 0.20066102045032008]"
     ]
    },
    {
     "name": "stderr",
     "output_type": "stream",
     "text": [
      "d:\\Belajar\\Pacmann\\Final project\\CAR_INSURANCE_PREDICTION\\.env\\lib\\site-packages\\xgboost\\sklearn.py:861: UserWarning: `early_stopping_rounds` in `fit` method is deprecated for better compatibility with scikit-learn, use `early_stopping_rounds` in constructor or`set_params` instead.\n",
      "  warnings.warn(\n",
      "\n",
      "d:\\Belajar\\Pacmann\\Final project\\CAR_INSURANCE_PREDICTION\\.env\\lib\\site-packages\\xgboost\\sklearn.py:861: UserWarning: `early_stopping_rounds` in `fit` method is deprecated for better compatibility with scikit-learn, use `early_stopping_rounds` in constructor or`set_params` instead.\n",
      "  warnings.warn(\n",
      "\n"
     ]
    },
    {
     "name": "stdout",
     "output_type": "stream",
     "text": [
      "SCore:                                                                             \n",
      "0.7881222887833093                                                                 \n",
      "100%|██████████| 100/100 [00:12<00:00,  8.19trial/s, best loss: 0.20066102045032008]\n"
     ]
    }
   ],
   "source": [
    "trials = Trials()\n",
    "\n",
    "best_hyperparams = fmin(fn = objective,\n",
    "                        space = space,\n",
    "                        algo = tpe.suggest,\n",
    "                        max_evals = 100,\n",
    "                        trials = trials)"
   ]
  },
  {
   "cell_type": "code",
   "execution_count": 56,
   "metadata": {},
   "outputs": [
    {
     "name": "stdout",
     "output_type": "stream",
     "text": [
      "{'colsample_bytree': 0.9215312945790399, 'gamma': 8.579361690309746, 'max_depth': 9.0, 'min_child_weight': 10.0, 'reg_alpha': 100.0, 'reg_lambda': 0.553734864557859}\n"
     ]
    }
   ],
   "source": [
    "print(best_hyperparams)"
   ]
  },
  {
   "attachments": {},
   "cell_type": "markdown",
   "metadata": {},
   "source": [
    "## Training Model"
   ]
  },
  {
   "cell_type": "code",
   "execution_count": 83,
   "metadata": {},
   "outputs": [],
   "source": [
    "def train_model(x_train, y_train, x_valid, y_valid):\n",
    "    eval_set = [(x_train, y_train), (x_valid, y_valid)]\n",
    "    model = XGBClassifier(colsample_bytree=0.9215312945790399, gamma=8.579361690309746, max_depth=9, min_child_weight=10.0, \n",
    "                          reg_alpha=100.0, reg_lambda=0.553734864557859)\n",
    "    model.fit(x_train, y_train, eval_metric=[\"error\", \"logloss\"], eval_set=eval_set, verbose=True)\n",
    "    return model"
   ]
  },
  {
   "cell_type": "code",
   "execution_count": 84,
   "metadata": {},
   "outputs": [
    {
     "name": "stdout",
     "output_type": "stream",
     "text": [
      "[0]\tvalidation_0-error:0.16164\tvalidation_0-logloss:0.57673\tvalidation_1-error:0.21400\tvalidation_1-logloss:0.60194\n",
      "[1]\tvalidation_0-error:0.16143\tvalidation_0-logloss:0.51012\tvalidation_1-error:0.21467\tvalidation_1-logloss:0.54850\n",
      "[2]\tvalidation_0-error:0.16154\tvalidation_0-logloss:0.46715\tvalidation_1-error:0.21400\tvalidation_1-logloss:0.52014\n",
      "[3]\tvalidation_0-error:0.15789\tvalidation_0-logloss:0.43636\tvalidation_1-error:0.21067\tvalidation_1-logloss:0.50126\n",
      "[4]\tvalidation_0-error:0.15446\tvalidation_0-logloss:0.41732\tvalidation_1-error:0.21200\tvalidation_1-logloss:0.49157\n",
      "[5]\tvalidation_0-error:0.15249\tvalidation_0-logloss:0.40240\tvalidation_1-error:0.21200\tvalidation_1-logloss:0.47899\n",
      "[6]\tvalidation_0-error:0.15061\tvalidation_0-logloss:0.39093\tvalidation_1-error:0.20667\tvalidation_1-logloss:0.47175\n",
      "[7]\tvalidation_0-error:0.15051\tvalidation_0-logloss:0.38232\tvalidation_1-error:0.20667\tvalidation_1-logloss:0.46335\n",
      "[8]\tvalidation_0-error:0.14156\tvalidation_0-logloss:0.37250\tvalidation_1-error:0.19333\tvalidation_1-logloss:0.45430\n",
      "[9]\tvalidation_0-error:0.14146\tvalidation_0-logloss:0.36866\tvalidation_1-error:0.19467\tvalidation_1-logloss:0.45363\n",
      "[10]\tvalidation_0-error:0.14136\tvalidation_0-logloss:0.36466\tvalidation_1-error:0.19467\tvalidation_1-logloss:0.45068\n",
      "[11]\tvalidation_0-error:0.14042\tvalidation_0-logloss:0.36061\tvalidation_1-error:0.19333\tvalidation_1-logloss:0.44734\n",
      "[12]\tvalidation_0-error:0.14011\tvalidation_0-logloss:0.35628\tvalidation_1-error:0.19333\tvalidation_1-logloss:0.44367\n",
      "[13]\tvalidation_0-error:0.13824\tvalidation_0-logloss:0.35299\tvalidation_1-error:0.18800\tvalidation_1-logloss:0.44292\n",
      "[14]\tvalidation_0-error:0.13824\tvalidation_0-logloss:0.35214\tvalidation_1-error:0.18733\tvalidation_1-logloss:0.44187\n",
      "[15]\tvalidation_0-error:0.13688\tvalidation_0-logloss:0.34996\tvalidation_1-error:0.18867\tvalidation_1-logloss:0.44003\n",
      "[16]\tvalidation_0-error:0.13699\tvalidation_0-logloss:0.34823\tvalidation_1-error:0.18733\tvalidation_1-logloss:0.43861\n",
      "[17]\tvalidation_0-error:0.13699\tvalidation_0-logloss:0.34823\tvalidation_1-error:0.18733\tvalidation_1-logloss:0.43861\n",
      "[18]\tvalidation_0-error:0.13699\tvalidation_0-logloss:0.34823\tvalidation_1-error:0.18733\tvalidation_1-logloss:0.43861\n",
      "[19]\tvalidation_0-error:0.13699\tvalidation_0-logloss:0.34823\tvalidation_1-error:0.18733\tvalidation_1-logloss:0.43861\n",
      "[20]\tvalidation_0-error:0.13699\tvalidation_0-logloss:0.34823\tvalidation_1-error:0.18733\tvalidation_1-logloss:0.43861\n",
      "[21]\tvalidation_0-error:0.13699\tvalidation_0-logloss:0.34823\tvalidation_1-error:0.18733\tvalidation_1-logloss:0.43861\n",
      "[22]\tvalidation_0-error:0.13699\tvalidation_0-logloss:0.34823\tvalidation_1-error:0.18733\tvalidation_1-logloss:0.43861\n",
      "[23]\tvalidation_0-error:0.13699\tvalidation_0-logloss:0.34823\tvalidation_1-error:0.18733\tvalidation_1-logloss:0.43861\n",
      "[24]\tvalidation_0-error:0.13699\tvalidation_0-logloss:0.34823\tvalidation_1-error:0.18733\tvalidation_1-logloss:0.43861\n",
      "[25]\tvalidation_0-error:0.13699\tvalidation_0-logloss:0.34823\tvalidation_1-error:0.18733\tvalidation_1-logloss:0.43861\n",
      "[26]\tvalidation_0-error:0.13699\tvalidation_0-logloss:0.34823\tvalidation_1-error:0.18733\tvalidation_1-logloss:0.43861\n",
      "[27]\tvalidation_0-error:0.13699\tvalidation_0-logloss:0.34823\tvalidation_1-error:0.18733\tvalidation_1-logloss:0.43861\n",
      "[28]\tvalidation_0-error:0.13699\tvalidation_0-logloss:0.34823\tvalidation_1-error:0.18733\tvalidation_1-logloss:0.43861\n",
      "[29]\tvalidation_0-error:0.13699\tvalidation_0-logloss:0.34823\tvalidation_1-error:0.18733\tvalidation_1-logloss:0.43861\n",
      "[30]\tvalidation_0-error:0.13699\tvalidation_0-logloss:0.34823\tvalidation_1-error:0.18733\tvalidation_1-logloss:0.43861\n",
      "[31]\tvalidation_0-error:0.13699\tvalidation_0-logloss:0.34823\tvalidation_1-error:0.18733\tvalidation_1-logloss:0.43861\n",
      "[32]\tvalidation_0-error:0.13699\tvalidation_0-logloss:0.34823\tvalidation_1-error:0.18733\tvalidation_1-logloss:0.43861\n",
      "[33]\tvalidation_0-error:0.13699\tvalidation_0-logloss:0.34823\tvalidation_1-error:0.18733\tvalidation_1-logloss:0.43861\n",
      "[34]\tvalidation_0-error:0.13699\tvalidation_0-logloss:0.34823\tvalidation_1-error:0.18733\tvalidation_1-logloss:0.43861\n",
      "[35]\tvalidation_0-error:0.13699\tvalidation_0-logloss:0.34823\tvalidation_1-error:0.18733\tvalidation_1-logloss:0.43861\n",
      "[36]\tvalidation_0-error:0.13699\tvalidation_0-logloss:0.34823\tvalidation_1-error:0.18733\tvalidation_1-logloss:0.43861\n",
      "[37]\tvalidation_0-error:0.13699\tvalidation_0-logloss:0.34823\tvalidation_1-error:0.18733\tvalidation_1-logloss:0.43861\n",
      "[38]\tvalidation_0-error:0.13699\tvalidation_0-logloss:0.34823\tvalidation_1-error:0.18733\tvalidation_1-logloss:0.43861\n",
      "[39]\tvalidation_0-error:0.13699\tvalidation_0-logloss:0.34823\tvalidation_1-error:0.18733\tvalidation_1-logloss:0.43861\n",
      "[40]\tvalidation_0-error:0.13699\tvalidation_0-logloss:0.34823\tvalidation_1-error:0.18733\tvalidation_1-logloss:0.43861\n",
      "[41]\tvalidation_0-error:0.13699\tvalidation_0-logloss:0.34823\tvalidation_1-error:0.18733\tvalidation_1-logloss:0.43861\n",
      "[42]\tvalidation_0-error:0.13699\tvalidation_0-logloss:0.34823\tvalidation_1-error:0.18733\tvalidation_1-logloss:0.43861\n",
      "[43]\tvalidation_0-error:0.13699\tvalidation_0-logloss:0.34823\tvalidation_1-error:0.18733\tvalidation_1-logloss:0.43861\n",
      "[44]\tvalidation_0-error:0.13699\tvalidation_0-logloss:0.34823\tvalidation_1-error:0.18733\tvalidation_1-logloss:0.43861\n",
      "[45]\tvalidation_0-error:0.13699\tvalidation_0-logloss:0.34823\tvalidation_1-error:0.18733\tvalidation_1-logloss:0.43861\n",
      "[46]\tvalidation_0-error:0.13699\tvalidation_0-logloss:0.34823\tvalidation_1-error:0.18733\tvalidation_1-logloss:0.43861\n",
      "[47]\tvalidation_0-error:0.13699\tvalidation_0-logloss:0.34823\tvalidation_1-error:0.18733\tvalidation_1-logloss:0.43861\n",
      "[48]\tvalidation_0-error:0.13699\tvalidation_0-logloss:0.34823\tvalidation_1-error:0.18733\tvalidation_1-logloss:0.43861\n",
      "[49]\tvalidation_0-error:0.13699\tvalidation_0-logloss:0.34823\tvalidation_1-error:0.18733\tvalidation_1-logloss:0.43861\n",
      "[50]\tvalidation_0-error:0.13699\tvalidation_0-logloss:0.34823\tvalidation_1-error:0.18733\tvalidation_1-logloss:0.43861\n",
      "[51]\tvalidation_0-error:0.13699\tvalidation_0-logloss:0.34823\tvalidation_1-error:0.18733\tvalidation_1-logloss:0.43861\n",
      "[52]\tvalidation_0-error:0.13699\tvalidation_0-logloss:0.34823\tvalidation_1-error:0.18733\tvalidation_1-logloss:0.43861\n",
      "[53]\tvalidation_0-error:0.13699\tvalidation_0-logloss:0.34823\tvalidation_1-error:0.18733\tvalidation_1-logloss:0.43861\n",
      "[54]\tvalidation_0-error:0.13699\tvalidation_0-logloss:0.34823\tvalidation_1-error:0.18733\tvalidation_1-logloss:0.43861\n",
      "[55]\tvalidation_0-error:0.13699\tvalidation_0-logloss:0.34823\tvalidation_1-error:0.18733\tvalidation_1-logloss:0.43861\n",
      "[56]\tvalidation_0-error:0.13699\tvalidation_0-logloss:0.34823\tvalidation_1-error:0.18733\tvalidation_1-logloss:0.43861\n",
      "[57]\tvalidation_0-error:0.13699\tvalidation_0-logloss:0.34823\tvalidation_1-error:0.18733\tvalidation_1-logloss:0.43861\n",
      "[58]\tvalidation_0-error:0.13699\tvalidation_0-logloss:0.34823\tvalidation_1-error:0.18733\tvalidation_1-logloss:0.43861\n",
      "[59]\tvalidation_0-error:0.13699\tvalidation_0-logloss:0.34823\tvalidation_1-error:0.18733\tvalidation_1-logloss:0.43861\n",
      "[60]\tvalidation_0-error:0.13699\tvalidation_0-logloss:0.34823\tvalidation_1-error:0.18733\tvalidation_1-logloss:0.43861\n",
      "[61]\tvalidation_0-error:0.13699\tvalidation_0-logloss:0.34823\tvalidation_1-error:0.18733\tvalidation_1-logloss:0.43861\n",
      "[62]\tvalidation_0-error:0.13699\tvalidation_0-logloss:0.34823\tvalidation_1-error:0.18733\tvalidation_1-logloss:0.43861\n",
      "[63]\tvalidation_0-error:0.13699\tvalidation_0-logloss:0.34823\tvalidation_1-error:0.18733\tvalidation_1-logloss:0.43861\n",
      "[64]\tvalidation_0-error:0.13699\tvalidation_0-logloss:0.34823\tvalidation_1-error:0.18733\tvalidation_1-logloss:0.43861\n",
      "[65]\tvalidation_0-error:0.13699\tvalidation_0-logloss:0.34823\tvalidation_1-error:0.18733\tvalidation_1-logloss:0.43861\n",
      "[66]\tvalidation_0-error:0.13699\tvalidation_0-logloss:0.34823\tvalidation_1-error:0.18733\tvalidation_1-logloss:0.43861\n",
      "[67]\tvalidation_0-error:0.13699\tvalidation_0-logloss:0.34823\tvalidation_1-error:0.18733\tvalidation_1-logloss:0.43861\n",
      "[68]\tvalidation_0-error:0.13699\tvalidation_0-logloss:0.34823\tvalidation_1-error:0.18733\tvalidation_1-logloss:0.43861\n",
      "[69]\tvalidation_0-error:0.13699\tvalidation_0-logloss:0.34823\tvalidation_1-error:0.18733\tvalidation_1-logloss:0.43861\n",
      "[70]\tvalidation_0-error:0.13699\tvalidation_0-logloss:0.34823\tvalidation_1-error:0.18733\tvalidation_1-logloss:0.43861\n",
      "[71]\tvalidation_0-error:0.13699\tvalidation_0-logloss:0.34823\tvalidation_1-error:0.18733\tvalidation_1-logloss:0.43861\n",
      "[72]\tvalidation_0-error:0.13699\tvalidation_0-logloss:0.34823\tvalidation_1-error:0.18733\tvalidation_1-logloss:0.43861\n",
      "[73]\tvalidation_0-error:0.13699\tvalidation_0-logloss:0.34823\tvalidation_1-error:0.18733\tvalidation_1-logloss:0.43861\n",
      "[74]\tvalidation_0-error:0.13699\tvalidation_0-logloss:0.34823\tvalidation_1-error:0.18733\tvalidation_1-logloss:0.43861\n",
      "[75]\tvalidation_0-error:0.13699\tvalidation_0-logloss:0.34823\tvalidation_1-error:0.18733\tvalidation_1-logloss:0.43861\n",
      "[76]\tvalidation_0-error:0.13699\tvalidation_0-logloss:0.34823\tvalidation_1-error:0.18733\tvalidation_1-logloss:0.43861\n",
      "[77]\tvalidation_0-error:0.13699\tvalidation_0-logloss:0.34823\tvalidation_1-error:0.18733\tvalidation_1-logloss:0.43861\n",
      "[78]\tvalidation_0-error:0.13699\tvalidation_0-logloss:0.34823\tvalidation_1-error:0.18733\tvalidation_1-logloss:0.43861\n",
      "[79]\tvalidation_0-error:0.13699\tvalidation_0-logloss:0.34823\tvalidation_1-error:0.18733\tvalidation_1-logloss:0.43861\n",
      "[80]\tvalidation_0-error:0.13699\tvalidation_0-logloss:0.34823\tvalidation_1-error:0.18733\tvalidation_1-logloss:0.43861\n",
      "[81]\tvalidation_0-error:0.13699\tvalidation_0-logloss:0.34823\tvalidation_1-error:0.18733\tvalidation_1-logloss:0.43861\n",
      "[82]\tvalidation_0-error:0.13699\tvalidation_0-logloss:0.34823\tvalidation_1-error:0.18733\tvalidation_1-logloss:0.43861\n",
      "[83]\tvalidation_0-error:0.13699\tvalidation_0-logloss:0.34823\tvalidation_1-error:0.18733\tvalidation_1-logloss:0.43861\n",
      "[84]\tvalidation_0-error:0.13699\tvalidation_0-logloss:0.34823\tvalidation_1-error:0.18733\tvalidation_1-logloss:0.43861\n",
      "[85]\tvalidation_0-error:0.13699\tvalidation_0-logloss:0.34823\tvalidation_1-error:0.18733\tvalidation_1-logloss:0.43861\n",
      "[86]\tvalidation_0-error:0.13699\tvalidation_0-logloss:0.34823\tvalidation_1-error:0.18733\tvalidation_1-logloss:0.43861\n",
      "[87]\tvalidation_0-error:0.13699\tvalidation_0-logloss:0.34823\tvalidation_1-error:0.18733\tvalidation_1-logloss:0.43861\n",
      "[88]\tvalidation_0-error:0.13699\tvalidation_0-logloss:0.34823\tvalidation_1-error:0.18733\tvalidation_1-logloss:0.43861\n",
      "[89]\tvalidation_0-error:0.13699\tvalidation_0-logloss:0.34823\tvalidation_1-error:0.18733\tvalidation_1-logloss:0.43861\n",
      "[90]\tvalidation_0-error:0.13699\tvalidation_0-logloss:0.34823\tvalidation_1-error:0.18733\tvalidation_1-logloss:0.43861\n",
      "[91]\tvalidation_0-error:0.13699\tvalidation_0-logloss:0.34823\tvalidation_1-error:0.18733\tvalidation_1-logloss:0.43861\n",
      "[92]\tvalidation_0-error:0.13699\tvalidation_0-logloss:0.34823\tvalidation_1-error:0.18733\tvalidation_1-logloss:0.43861\n",
      "[93]\tvalidation_0-error:0.13699\tvalidation_0-logloss:0.34823\tvalidation_1-error:0.18733\tvalidation_1-logloss:0.43861\n",
      "[94]\tvalidation_0-error:0.13699\tvalidation_0-logloss:0.34823\tvalidation_1-error:0.18733\tvalidation_1-logloss:0.43861\n",
      "[95]\tvalidation_0-error:0.13699\tvalidation_0-logloss:0.34823\tvalidation_1-error:0.18733\tvalidation_1-logloss:0.43861\n",
      "[96]\tvalidation_0-error:0.13699\tvalidation_0-logloss:0.34823\tvalidation_1-error:0.18733\tvalidation_1-logloss:0.43861\n",
      "[97]\tvalidation_0-error:0.13699\tvalidation_0-logloss:0.34823\tvalidation_1-error:0.18733\tvalidation_1-logloss:0.43861\n",
      "[98]\tvalidation_0-error:0.13699\tvalidation_0-logloss:0.34823\tvalidation_1-error:0.18733\tvalidation_1-logloss:0.43861\n",
      "[99]\tvalidation_0-error:0.13699\tvalidation_0-logloss:0.34823\tvalidation_1-error:0.18733\tvalidation_1-logloss:0.43861\n"
     ]
    }
   ],
   "source": [
    "model = train_model(x_train, y_train, x_valid, y_valid)"
   ]
  },
  {
   "attachments": {},
   "cell_type": "markdown",
   "metadata": {},
   "source": [
    "## Evaluation and Metrics"
   ]
  },
  {
   "cell_type": "code",
   "execution_count": 85,
   "metadata": {},
   "outputs": [
    {
     "data": {
      "image/png": "[encoded data removed]",
      "text/plain": [
       "<Figure size 640x480 with 1 Axes>"
      ]
     },
     "metadata": {},
     "output_type": "display_data"
    },
    {
     "data": {
      "image/png": "[encoded data removed]",
      "text/plain": [
       "<Figure size 640x480 with 1 Axes>"
      ]
     },
     "metadata": {},
     "output_type": "display_data"
    }
   ],
   "source": [
    "# retrieve performance metrics\n",
    "results = model.evals_result()\n",
    "epochs = len(results['validation_0']['error'])\n",
    "x_axis = range(0, epochs)\n",
    "# plot log loss\n",
    "fig, ax = pyplot.subplots()\n",
    "ax.plot(x_axis, results['validation_0']['logloss'], label='Train')\n",
    "ax.plot(x_axis, results['validation_1']['logloss'], label='Test')\n",
    "ax.legend()\n",
    "pyplot.ylabel('Log Loss')\n",
    "pyplot.title('XGBoost Log Loss')\n",
    "pyplot.show()\n",
    "# plot classification error\n",
    "fig, ax = pyplot.subplots()\n",
    "ax.plot(x_axis, results['validation_0']['error'], label='Train')\n",
    "ax.plot(x_axis, results['validation_1']['error'], label='Test')\n",
    "ax.legend()\n",
    "pyplot.ylabel('Classification Error')\n",
    "pyplot.title('XGBoost Classification Error')\n",
    "pyplot.show()"
   ]
  },
  {
   "cell_type": "code",
   "execution_count": 79,
   "metadata": {},
   "outputs": [
    {
     "name": "stdout",
     "output_type": "stream",
     "text": [
      "[[886 144]\n",
      " [113 357]]\n",
      "              precision    recall  f1-score   support\n",
      "\n",
      "         0.0       0.89      0.86      0.87      1030\n",
      "         1.0       0.71      0.76      0.74       470\n",
      "\n",
      "    accuracy                           0.83      1500\n",
      "   macro avg       0.80      0.81      0.80      1500\n",
      "weighted avg       0.83      0.83      0.83      1500\n",
      "\n",
      "0.809884321421194\n"
     ]
    }
   ],
   "source": [
    "y_pred = model.predict(x_test)\n",
    "roc_auc = roc_auc_score(y_test, y_pred)\n",
    "print(confusion_matrix(y_test, y_pred))\n",
    "print(classification_report(y_test, y_pred))\n",
    "print(roc_auc)"
   ]
  },
  {
   "cell_type": "code",
   "execution_count": 64,
   "metadata": {},
   "outputs": [],
   "source": [
    "utils.pickle_dump(model, config[\"production_model_path\"])"
   ]
  },
  {
   "cell_type": "code",
   "execution_count": null,
   "metadata": {},
   "outputs": [],
   "source": []
  }
 ],
 "metadata": {
  "kernelspec": {
   "display_name": ".env",
   "language": "python",
   "name": "python3"
  },
  "language_info": {
   "codemirror_mode": {
    "name": "ipython",
    "version": 3
   },
   "file_extension": ".py",
   "mimetype": "text/x-python",
   "name": "python",
   "nbconvert_exporter": "python",
   "pygments_lexer": "ipython3",
   "version": "3.8.10"
  },
  "orig_nbformat": 4,
  "vscode": {
   "interpreter": {
    "hash": "9f2ff55ee6233bcdb3f920325256aa60d50730bac1077ec6d8f79657df8e7826"
   }
  }
 },
 "nbformat": 4,
 "nbformat_minor": 2
}
